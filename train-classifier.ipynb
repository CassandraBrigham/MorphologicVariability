{
 "cells": [
  {
   "cell_type": "markdown",
   "id": "7185a44c-144c-4c77-b179-7b2462b6d724",
   "metadata": {},
   "source": [
    "# morph-var 3"
   ]
  },
  {
   "cell_type": "markdown",
   "id": "9e202689-c030-49ef-929d-acf1b290abc7",
   "metadata": {},
   "source": [
    "## Build, train and test a landform profile shape classifier using user-chosen classes"
   ]
  },
  {
   "cell_type": "markdown",
   "id": "e0300dfc-8a3d-4a94-90ae-463b9d76d14f",
   "metadata": {},
   "source": [
    "This is the third of five notebooks outlining the algorithm we used to quantify the morphologic variability of a linear landform. In this notebook, we first list profiles selected from those processed in morph-var 2 and manually grouped into six morphologic categories with a view towards geologic process. Then, we use principal component analysis with singular value decomposition (SVD) to quantitatively distinguish between morphologic classes. We follow this by employing the support vector machine (SVM) method to build a supervised classifier, using the principal-component coordinates of the classified profiles in principal component space as a training set. Classification performance was assessed using 5-fold cross validation (81% accuracy). The \"eigenfaces\" of the "
   ]
  },
  {
   "cell_type": "markdown",
   "id": "wired-protein",
   "metadata": {},
   "source": [
    "## Packages and libraries"
   ]
  },
  {
   "cell_type": "code",
   "execution_count": null,
   "id": "residential-prerequisite",
   "metadata": {
    "tags": []
   },
   "outputs": [],
   "source": [
    "import numpy as np\n",
    "import pandas as pd\n",
    "from geomdl import BSpline, utilities\n",
    "from scipy import linalg\n",
    "import itertools\n",
    "import matplotlib.pyplot as plt\n",
    "import os\n",
    "from sklearn import svm\n",
    "import sklearn\n",
    "from sklearn import preprocessing\n",
    "from mpl_toolkits.mplot3d.axes3d import Axes3D"
   ]
  },
  {
   "cell_type": "code",
   "execution_count": null,
   "id": "39f4bad8-ee43-4ab8-b87b-b9077a7fb5c5",
   "metadata": {},
   "outputs": [],
   "source": [
    "%matplotlib qt"
   ]
  },
  {
   "cell_type": "markdown",
   "id": "antique-ethernet",
   "metadata": {},
   "source": [
    "## Define landform profile morphologic classes"
   ]
  },
  {
   "cell_type": "markdown",
   "id": "empty-dover",
   "metadata": {},
   "source": [
    "Using field observations and expert knowledge, define morphologic classes and select a dataset of manually classified profiles to train the classifier."
   ]
  },
  {
   "cell_type": "code",
   "execution_count": null,
   "id": "analyzed-friend",
   "metadata": {},
   "outputs": [],
   "source": [
    "#Specify the number of morphologic classes\n",
    "n_classes = 6\n",
    "\n",
    "#For each class, list the filenames (strings) of the selected profiles to represent each class.\n",
    "class1='VogarA_cropnorm_146.txt','VogarA_cropnorm_95.txt','VogarA_cropnorm_98.txt','VogarA_cropnorm_2.txt','Stora_Aragja_cropnorm_1.txt','Stora_Aragja_cropnorm_2.txt','Stora_Aragja_cropnorm_4.txt','Stora_Aragja_cropnorm_32.txt','Stora_Aragja_cropnorm_40.txt','Sodulholagja_cropnorm_18.txt','Sodulholagja_cropnorm_28.txt','RHPS_cropnorm_190.txt','RHPS_cropnorm_193.txt','RHPS_cropnorm_195.txt','RHPS_cropnorm_208.txt','VogarA_cropnorm_68.txt','RHPS_cropnorm_210.txt'\n",
    "class2='VogarA_cropnorm_129.txt','VogarA_cropnorm_131.txt','VogarA_cropnorm_133.txt','VogarA_cropnorm_134.txt','VogarA_cropnorm_135.txt','VogarA_cropnorm_137.txt','VogarA_cropnorm_138.txt','VogarA_cropnorm_139.txt','VogarA_cropnorm_140.txt','VogarA_cropnorm_38.txt','VogarA_cropnorm_50.txt','VogarA_cropnorm_47.txt','VogarA_cropnorm_46.txt','VogarA_cropnorm_57.txt','VogarA_cropnorm_56.txt','VogarA_cropnorm_55.txt','VogarA_cropnorm_53.txt','VogarA_cropnorm_51.txt','Stora_Aragja_cropnorm_34.txt','Stora_Aragja_cropnorm_35.txt','Stora_Aragja_cropnorm_54.txt','Stora_Aragja_cropnorm_55.txt'\n",
    "class3='LVBD-A_4_cropnorm_300.txt','LVBD-A_4_cropnorm_302.txt','LVBD-A_4_cropnorm_316.txt','LVBD-A_4_cropnorm_335.txt','LVBD-A_4_cropnorm_317.txt','LVBD-A_4_cropnorm_340.txt','LVBD-A_4_cropnorm_355.txt','LVBD-A_4_cropnorm_365.txt','LVBD-A_4_cropnorm_375.txt','LVBD-A_4_cropnorm_385.txt','LVBD-A_4_cropnorm_390.txt','LVBD-A_4_cropnorm_535.txt','LVBD-A_4_cropnorm_540.txt','LVBD-A_4_cropnorm_590.txt','LVBD-A_4_cropnorm_630.txt','LVBD-A_4_cropnorm_760.txt','LVBD-A_4_cropnorm_770.txt','VogarA_cropnorm_118.txt','VogarA_cropnorm_78.txt','Stora_Aragja_cropnorm_9.txt','Stora_Aragja_cropnorm_15.txt'\n",
    "class4='VogarA_cropnorm_30.txt','VogarA_cropnorm_33.txt','VogarA_cropnorm_35.txt','VogarA_cropnorm_41.txt','VogarA_cropnorm_61.txt','VogarA_cropnorm_63.txt','VogarA_cropnorm_64.txt','LVBD-A_1_cropnorm_136.txt','LVBD-A_1_cropnorm_145.txt','LVBD-A_1_cropnorm_147.txt','LVBD-A_1_cropnorm_155.txt','LVBD-A_1_cropnorm_275.txt','LVBD-A_1_cropnorm_276.txt','Stora_Aragja_cropnorm_41.txt','Stora_Aragja_cropnorm_60.txt','Sodulholagja_cropnorm_37.txt','Sodulholagja_cropnorm_38.txt','RHPS_cropnorm_140.txt','RHPS_cropnorm_430.txt'\n",
    "class5='LVBD-A_1_cropnorm_96.txt','LVBD-A_1_cropnorm_410.txt','LVBD-A_1_cropnorm_570.txt','LVBD-A_1_cropnorm_575.txt','LVBD-A_1_cropnorm_650.txt','LVBD-A_1_cropnorm_690.txt','LVBD-A_4_cropnorm_0.txt','LVBD-A_4_cropnorm_5.txt','LVBD-A_4_cropnorm_7.txt','LVBD-A_4_cropnorm_11.txt','LVBD-A_4_cropnorm_210.txt','LVBD-A_4_cropnorm_225.txt','LVBD-A_4_cropnorm_515.txt','Stora_Aragja_cropnorm_6.txt','Stora_Aragja_cropnorm_67.txt','RHPS_cropnorm_20.txt','RHPS_cropnorm_60.txt','RHPS_cropnorm_65.txt'\n",
    "class6='VogarA_cropnorm_26.txt','VogarA_cropnorm_28.txt','LVBD-A_1_cropnorm_100.txt','LVBD-A_1_cropnorm_101.txt','LVBD-A_1_cropnorm_102.txt','LVBD-A_1_cropnorm_104.txt','LVBD-A_1_cropnorm_106.txt','LVBD-A_1_cropnorm_114.txt','LVBD-A_1_cropnorm_117.txt','LVBD-A_1_cropnorm_130.txt','LVBD-A_1_cropnorm_164.txt','LVBD-A_1_cropnorm_166.txt','LVBD-A_1_cropnorm_167.txt','LVBD-A_1_cropnorm_450.txt','LVBD-A_1_cropnorm_800.txt','LVBD-A_1_cropnorm_854.txt','LVBD-A_4_cropnorm_150.txt','LVBD-A_4_cropnorm_155.txt','LVBD-A_4_cropnorm_151.txt','Stora_Aragja_cropnorm_44.txt','Stora_Aragja_cropnorm_51.txt','Stora_Aragja_cropnorm_58.txt','Stora_Aragja_cropnorm_59.txt','Stora_Aragja_cropnorm_64.txt','Stora_Aragja_cropnorm_68.txt','Sodulholagja_cropnorm_26.txt','RHPS_cropnorm_397.txt','RHPS_cropnorm_500.txt'"
   ]
  },
  {
   "cell_type": "markdown",
   "id": "raising-future",
   "metadata": {},
   "source": [
    "## Load normalized landform profile data"
   ]
  },
  {
   "cell_type": "markdown",
   "id": "vulnerable-mistress",
   "metadata": {},
   "source": [
    "Load the 2-D coordinates of the cropped and normalized profiles (output of process-profiles) for each class list. "
   ]
  },
  {
   "cell_type": "code",
   "execution_count": null,
   "id": "great-plain",
   "metadata": {},
   "outputs": [],
   "source": [
    "# Define a function to load the coordinates from the cropped and normalized landform profiles.\n",
    "def load_data(class_name,path):\n",
    "    #Set path to folder with 2-D cropped and normalized profiles.\n",
    "    data_x_temp = []\n",
    "    data_y_temp = []\n",
    "    filenames =class_name #select profiles that belong to the desired class training group.\n",
    "    for file in filenames:\n",
    "            # Load x-coordinate data from files matching regular expression for desired class\n",
    "            data_x_temp.append(pd.read_csv(path+\"/\"+file).iloc[:,1].values)\n",
    "            # Load y-coordinate data from files matching regular expression for desired class\n",
    "            data_y_temp.append(pd.read_csv(path+\"/\"+file).iloc[:,2].values)\n",
    "            \n",
    "    # Create dataframes for x and y\n",
    "    dataclass_x = pd.DataFrame(data_x_temp).transpose() \n",
    "    dataclass_y = pd.DataFrame(data_y_temp).transpose()\n",
    "    dataclass_x.columns = filenames\n",
    "    dataclass_y.columns = filenames\n",
    "\n",
    "    return dataclass_x, dataclass_y"
   ]
  },
  {
   "cell_type": "code",
   "execution_count": null,
   "id": "adopted-country",
   "metadata": {},
   "outputs": [],
   "source": [
    "#Set path to that of the output files from process-profiles\n",
    "path= \"/Users/cassandrabrigham/Documents/RESEARCH/2020/Code/Classifier/Final/Data2/All_2D_cropped_normalized\""
   ]
  },
  {
   "cell_type": "code",
   "execution_count": null,
   "id": "raised-vanilla",
   "metadata": {},
   "outputs": [],
   "source": [
    "# Load profile data for each class\n",
    "(data1_x, data1_y) = load_data(class1,path)\n",
    "(data2_x, data2_y) = load_data(class2,path)\n",
    "(data3_x, data3_y) = load_data(class3,path)\n",
    "(data4_x, data4_y) = load_data(class4,path)\n",
    "(data5_x, data5_y) = load_data(class5,path)\n",
    "(data6_x, data6_y) = load_data(class6,path)"
   ]
  },
  {
   "cell_type": "code",
   "execution_count": null,
   "id": "timely-lottery",
   "metadata": {},
   "outputs": [],
   "source": [
    "#Determine length of each class list, as well as total length of training dataset.\n",
    "len1 = len(data1_x.columns)\n",
    "len2 = len(data2_x.columns)\n",
    "len3 = len(data3_x.columns)\n",
    "len4 = len(data4_x.columns)\n",
    "len5 = len(data5_x.columns)\n",
    "len6 = len(data6_x.columns)\n",
    "\n",
    "total_len = len1+len2+len3+len4+len5+len6"
   ]
  },
  {
   "cell_type": "code",
   "execution_count": null,
   "id": "musical-donna",
   "metadata": {},
   "outputs": [],
   "source": [
    "#Define 2 matrices with the positional data of profiles\n",
    "M = pd.concat([data1_x, data2_x, data3_x,data4_x, data5_x, data6_x],axis=1)\n",
    "Z = pd.concat([data1_y, data2_y, data3_y,data4_y, data5_y,data6_y],axis=1)\n",
    "names=list(M.columns)\n",
    "\n",
    "empty_names=[]\n",
    "for a in names:\n",
    "    if len(M[a].dropna())<=3:\n",
    "        empty_names.append(a)\n",
    "        print (f\"Appending {a}\")\n",
    "    else:\n",
    "        continue "
   ]
  },
  {
   "cell_type": "markdown",
   "id": "forty-julian",
   "metadata": {},
   "source": [
    "## Fit B-spline to profile data\n",
    "\n"
   ]
  },
  {
   "cell_type": "code",
   "execution_count": null,
   "id": "b6fac042-8d77-40c3-ade6-3d673baa4838",
   "metadata": {},
   "outputs": [],
   "source": [
    "x = []\n",
    "y = []\n",
    "k = []\n",
    "# Define the parametric values at which the curvature will be evaluated, between 0 and 1. \n",
    "U = pd.Series(np.linspace(0,1,300))\n",
    "\n",
    "# zip M_temp and Z_temp to create list of tuples of point\n",
    "L=pd.DataFrame([list(zip(M[a].dropna(),Z[a].dropna())) for a in names]).transpose()\n",
    "L.columns=names\n",
    "\n",
    "# For each profile, fit the data with a B-spline, calculate its derivatives, calculate curvature.\n",
    "for a in names:\n",
    "    curve = BSpline.Curve()# define the BSpline curve\n",
    "    curve.degree = 3# define the degree of the curve\n",
    "    curve.ctrlpts=list(L[a].dropna())\n",
    "    curve.knotvector = utilities.generate_knot_vector(curve.degree, len(curve.ctrlpts)) # auto-generate knot vector\n",
    "    curve.evaluate() # evaluate curve\n",
    "    # Calculate x,y coordinates and derivatives of curve at u values\n",
    "    x_temp = []\n",
    "    y_temp = []\n",
    "    k_temp = []\n",
    "    for i in U:\n",
    "        ders = curve.derivatives(i, order = 2) # calculate 1st and 2nd derivatives of the curve at u, returns 3 tuples defined below.\n",
    "        x_temp2 = ders[0][0] # x-position at u\n",
    "        y_temp2 = ders[0][1] # y-position at u\n",
    "        der1x_2 = ders[1][0] # 1st derivative with respect to x\n",
    "        der1y_2 = ders[1][1] # 1st derivative with respect to y\n",
    "        der2x = ders[2][0] # 2nd derivative with respect to x\n",
    "        der2y = ders[2][1] # 2nd derivative with respect to y\n",
    "        k_temp2 = ((der1x_2*der2y)-(der1y_2*der2x))/((((der1x_2)**2)+((der1y_2)**2))**(3/2)) # calculate curvature using formula for parametric curves.\n",
    "        x_temp.append(x_temp2)\n",
    "        y_temp.append(y_temp2)\n",
    "        k_temp.append(k_temp2)\n",
    "    x.append(x_temp)\n",
    "    y.append(y_temp)\n",
    "    k.append(k_temp)\n",
    "x=pd.DataFrame(x).transpose()\n",
    "x.columns=names\n",
    "y=pd.DataFrame(y).transpose()\n",
    "y.columns=names\n",
    "k=pd.DataFrame(k).transpose()\n",
    "k.columns=names"
   ]
  },
  {
   "cell_type": "markdown",
   "id": "hearing-uzbekistan",
   "metadata": {},
   "source": [
    "## Singular value decomposition"
   ]
  },
  {
   "cell_type": "code",
   "execution_count": null,
   "id": "0f42d26a-f3f8-49bc-a372-8ede62b768d7",
   "metadata": {},
   "outputs": [],
   "source": [
    "from sklearn.preprocessing import StandardScaler, MinMaxScaler"
   ]
  },
  {
   "cell_type": "code",
   "execution_count": null,
   "id": "intended-northwest",
   "metadata": {},
   "outputs": [],
   "source": [
    "features=pd.DataFrame([pd.concat([x[a],y[a]]).reset_index(drop=True) for a in names]).transpose()\n",
    "n_features, n_samples = features.shape\n",
    "mean = pd.Series(np.mean(features, axis=1))\n",
    "centered_data = pd.DataFrame([features[a]-mean for a in names]).transpose()\n",
    "U, S, V = linalg.svd(centered_data,full_matrices=False)"
   ]
  },
  {
   "cell_type": "code",
   "execution_count": null,
   "id": "occupational-chester",
   "metadata": {},
   "outputs": [],
   "source": [
    "percent_variance = (S*100)/(S.sum())\n",
    "fig,ax = plt.subplots()\n",
    "ax.plot(percent_variance,marker='.')\n",
    "ax.set_xlabel('Components')\n",
    "ax.set_ylabel('Percent of variance explained by component')"
   ]
  },
  {
   "cell_type": "code",
   "execution_count": null,
   "id": "42a19ba1-5be2-4893-8b21-19fb7788893a",
   "metadata": {},
   "outputs": [],
   "source": [
    "one = np.ones((len1,))\n",
    "two = np.ones((len2,))*2\n",
    "three = np.ones((len3,))*3\n",
    "four = np.ones((len4,))*4\n",
    "five = np.ones((len5,))*5\n",
    "six = np.ones((len6,))*6\n",
    "\n",
    "classes= np.concatenate((one,two,three,four,five,six), axis=0)"
   ]
  },
  {
   "cell_type": "code",
   "execution_count": null,
   "id": "15133d91-3c2a-4dd3-9eee-3b10a5bdbd90",
   "metadata": {},
   "outputs": [],
   "source": [
    "proj=V.T*S\n",
    "proj=pd.DataFrame(proj)"
   ]
  },
  {
   "cell_type": "code",
   "execution_count": null,
   "id": "2ff2bb12-b568-4a9a-8fed-92225e351e2e",
   "metadata": {},
   "outputs": [],
   "source": [
    "x_ax=0\n",
    "y_ax=1\n",
    "z_ax=2\n",
    "\n",
    "v11 = np.array(proj.iloc[0:len1,x_ax])\n",
    "v12 = np.array(proj.iloc[0:len1,y_ax])\n",
    "v13 = np.array(proj.iloc[0:len1,z_ax])\n",
    "v21 = np.array(proj.iloc[len1:len1+len2,x_ax])\n",
    "v22 = np.array(proj.iloc[len1:len1+len2,y_ax])\n",
    "v23 = np.array(proj.iloc[len1:len1+len2,z_ax])\n",
    "v31 = np.array(proj.iloc[len1+len2:len1+len2+len3,x_ax])\n",
    "v32 = np.array(proj.iloc[len1+len2:len1+len2+len3,y_ax])\n",
    "v33 = np.array(proj.iloc[len1+len2:len1+len2+len3,z_ax])\n",
    "v41 = np.array(proj.loc[len1+len2+len3:len1+len2+len3+len4,x_ax])\n",
    "v42 = np.array(proj.loc[len1+len2+len3:len1+len2+len3+len4,y_ax])\n",
    "v43 = np.array(proj.loc[len1+len2+len3:len1+len2+len3+len4,z_ax])\n",
    "v51 = np.array(proj.loc[len1+len2+len3+len4:len1+len2+len3+len4+len5,x_ax])\n",
    "v52 = np.array(proj.loc[len1+len2+len3+len4:len1+len2+len3+len4+len5,y_ax])\n",
    "v53 = np.array(proj.loc[len1+len2+len3+len4:len1+len2+len3+len4+len5,z_ax])\n",
    "v61 = np.array(proj.loc[len1+len2+len3+len4+len5:len1+len2+len3+len4+len5+len6,x_ax])\n",
    "v62 = np.array(proj.loc[len1+len2+len3+len4+len5:len1+len2+len3+len4+len5+len6,y_ax])\n",
    "v63 = np.array(proj.loc[len1+len2+len3+len4+len5:len1+len2+len3+len4+len5+len6,z_ax])"
   ]
  },
  {
   "cell_type": "code",
   "execution_count": null,
   "id": "1c47fdf2-6791-4af6-afae-222fe9910597",
   "metadata": {},
   "outputs": [],
   "source": [
    "fig = plt.figure()\n",
    "ax = fig.add_subplot(111,projection='3d')\n",
    "ax.scatter(v11,v12,v13, c='firebrick',marker='o')\n",
    "ax.scatter(v21,v22,v23,c='darkorange', marker='o')\n",
    "ax.scatter(v31,v32,v33,c='darkmagenta', marker='o')\n",
    "ax.scatter(v41,v42,v43,c='orchid', marker='o')\n",
    "ax.scatter(v51,v52,v53,c='darkcyan', marker='o')\n",
    "ax.scatter(v61,v62,v63,c='mediumslateblue', marker='o')\n",
    "ax.set_xlabel('PC1')\n",
    "ax.set_ylabel('PC2')\n",
    "ax.set_zlabel('PC3')\n",
    "#ax.set_title('Projection of data into principal component space')\n",
    "plt.show()"
   ]
  },
  {
   "cell_type": "markdown",
   "id": "concrete-printer",
   "metadata": {},
   "source": [
    "### Train classifier"
   ]
  },
  {
   "cell_type": "markdown",
   "id": "1bdaceee-8f97-4295-a051-98d14d0d7b23",
   "metadata": {},
   "source": [
    "#### Optimize number of modes for SVM classification"
   ]
  },
  {
   "cell_type": "code",
   "execution_count": null,
   "id": "447ae935-92d5-4e00-b777-17e8c7abab90",
   "metadata": {},
   "outputs": [],
   "source": [
    "gamma=np.logspace(-9, 3, 13)\n",
    "C=np.logspace(-3, 9, 13)\n",
    "PC=list(range(1,total_len+1))"
   ]
  },
  {
   "cell_type": "code",
   "execution_count": null,
   "id": "5fb914eb-3525-4527-b22d-34ae6a667732",
   "metadata": {},
   "outputs": [],
   "source": [
    "product_C_gamma=list(itertools.product(C,gamma))\n",
    "product_PC_C_gamma=list(itertools.product(PC,product_C_gamma))"
   ]
  },
  {
   "cell_type": "code",
   "execution_count": null,
   "id": "30f6b75a-d1ab-492c-ba07-70358c52c9fb",
   "metadata": {},
   "outputs": [],
   "source": [
    "accuracy_optimization_svm=[]\n",
    "for a in product_PC_C_gamma:\n",
    "    R=a[0]\n",
    "    K=a[1][0]\n",
    "    g=a[1][1]\n",
    "    \n",
    "    X = proj.iloc[:,:R]\n",
    "    scaler = preprocessing.StandardScaler().fit(X)\n",
    "    X=scaler.transform(X)\n",
    "    Y = classes\n",
    "            #accuracy\n",
    "    rbf = svm.SVC(kernel='rbf', C=K, gamma=g,decision_function_shape='ovr')\n",
    "    scores = sklearn.model_selection.cross_val_score(rbf, X, Y, cv = 5)\n",
    "        \n",
    "    accuracy_optimization_svm_temp=np.mean(scores) \n",
    "    accuracy_optimization_svm.append(accuracy_optimization_svm_temp) "
   ]
  },
  {
   "cell_type": "code",
   "execution_count": null,
   "id": "0fdc8635-5503-475a-9311-4b6a1bbd06da",
   "metadata": {},
   "outputs": [],
   "source": [
    "max(accuracy_optimization_svm)"
   ]
  },
  {
   "cell_type": "code",
   "execution_count": null,
   "id": "302d1aa6-f454-449f-aace-bed03beeef05",
   "metadata": {},
   "outputs": [],
   "source": [
    "best_parameters=product_PC_C_gamma[accuracy_optimization_svm.index(max(accuracy_optimization_svm))]"
   ]
  },
  {
   "cell_type": "code",
   "execution_count": null,
   "id": "9ce09401-60be-4eeb-9219-ae112642d34c",
   "metadata": {},
   "outputs": [],
   "source": [
    "best_parameters"
   ]
  },
  {
   "cell_type": "code",
   "execution_count": null,
   "id": "be6bb0fc-9b4f-4b68-941f-6a0ad25208d7",
   "metadata": {},
   "outputs": [],
   "source": [
    "r_best=best_parameters[0]\n",
    "C_best=best_parameters[1][0]\n",
    "gamma_best=best_parameters[1][1]"
   ]
  },
  {
   "cell_type": "markdown",
   "id": "81b72137-ab42-4537-8fed-d829d7d4c9e9",
   "metadata": {},
   "source": [
    "### Cross-validation SVM\n"
   ]
  },
  {
   "cell_type": "code",
   "execution_count": null,
   "id": "27d65f94-8ca0-425a-989d-3aea72b23bb5",
   "metadata": {},
   "outputs": [],
   "source": [
    "cv=5\n",
    "f1Score=pd.DataFrame()\n",
    "precision=pd.DataFrame()\n",
    "recall=pd.DataFrame()\n",
    "support=pd.DataFrame()\n",
    "accuracy=pd.DataFrame()\n",
    "cKappa=pd.DataFrame()\n",
    "MCC=pd.DataFrame()\n",
    "\n",
    "X = proj.iloc[:,0:r_best]\n",
    "Y = classes\n",
    "\n",
    "for a in range(0,cv): \n",
    "            # Split the data filenames into a training set and a testing set (67/33 split)\n",
    "    X_train, X_test, y_train, y_test = sklearn.model_selection.train_test_split(X,Y,test_size = 0.30)\n",
    "    \n",
    "            #classification\n",
    "    classifier = svm.SVC(kernel='rbf', C=C_best,gamma=gamma_best, decision_function_shape='ovr')  \n",
    "    classifier.fit(X_train,y_train)\n",
    "    y_pred = classifier.predict(X_test)\n",
    "            \n",
    "    #Cohen's kappa and Matthews correlation coefficient\n",
    "    cKappaTemp=sklearn.metrics.cohen_kappa_score(y_test,y_pred)\n",
    "    MCCTemp=sklearn.metrics.matthews_corrcoef(y_test,y_pred)\n",
    "\n",
    "    #CLassification stats\n",
    "    classReport=sklearn.metrics.classification_report(y_test,y_pred,output_dict=True)\n",
    "    classification_Report=pd.DataFrame.from_dict(classReport)\n",
    "    f1ScoreTemp=classification_Report.iloc[0,:]\n",
    "    precisionTemp=classification_Report.iloc[1,:]\n",
    "    recallTemp=classification_Report.iloc[2,:]\n",
    "    supportTemp=classification_Report.iloc[3,:]\n",
    "    accuracyTemp=sklearn.metrics.accuracy_score(y_test,y_pred)\n",
    "    \n",
    "    #Store info for the run into dataframes\n",
    "    f1Score[a]=pd.Series(f1ScoreTemp)\n",
    "    precision[a]=pd.Series(precisionTemp)\n",
    "    recall[a]=pd.Series(recallTemp)\n",
    "    support[a]=pd.Series(supportTemp)\n",
    "    accuracy[a]=pd.Series(accuracyTemp)\n",
    "    cKappa[a]=pd.Series(cKappaTemp)\n",
    "    MCC[a]=pd.Series(MCCTemp)\n",
    "\n",
    "classificationStats=pd.DataFrame(index=['1.0','2.0','3.0','4.0','5.0','6.0','macro avg','weighted avg'],columns=['f1Score','precision','recall','support','accuracy','Cohens Kappa','MCC'])\n",
    "classificationStats.iloc[:,0]=f1Score.loc[f1Score.index != 'accuracy',:].mean(axis=1)\n",
    "classificationStats.iloc[:,1]=precision.loc[precision.index != 'accuracy',:].mean(axis=1)\n",
    "classificationStats.iloc[:,2]=recall.loc[recall.index != 'accuracy',:].mean(axis=1)\n",
    "classificationStats.iloc[:,3]=support.loc[support.index != 'accuracy',:].mean(axis=1)\n",
    "classificationStats.iloc[6,4]=accuracy.mean(axis=1)[0]\n",
    "classificationStats.iloc[6,5]=cKappa.mean(axis=1)[0]\n",
    "classificationStats.iloc[6,6]=MCC.mean(axis=1)[0]\n",
    "classificationStats"
   ]
  },
  {
   "cell_type": "markdown",
   "id": "79547a74-127d-4a8d-9cf9-de7a28598838",
   "metadata": {},
   "source": [
    "### Visualizing principal components"
   ]
  },
  {
   "cell_type": "code",
   "execution_count": null,
   "id": "6ec33293-9965-4ae2-bbe5-5b9a7e97c892",
   "metadata": {},
   "outputs": [],
   "source": [
    "features=xy\n",
    "n_samples, n_features = features.shape\n",
    "mean = pd.Series(np.mean(features, axis=1))\n",
    "centered_data = pd.DataFrame()\n",
    "for a in names:\n",
    "    centered_data_temp = features[a]-mean\n",
    "    centered_data[a]=centered_data_temp\n",
    "centered_data_t = centered_data.T\n",
    "\n",
    "U, S, V = linalg.svd(features,full_matrices=False)"
   ]
  },
  {
   "cell_type": "markdown",
   "id": "4aab9dd8-ddff-4567-a4b8-fb5e900acb80",
   "metadata": {},
   "source": [
    "#### Mean profile form"
   ]
  },
  {
   "cell_type": "code",
   "execution_count": null,
   "id": "5c0adcc0-34e6-4823-95b6-4fadc1a43ff1",
   "metadata": {},
   "outputs": [],
   "source": [
    "mean_2D=pd.DataFrame(mean.values.reshape((300,2)),columns=['x','y'])\n",
    "plt.plot(mean_2D['x'],mean_2D['y'])\n",
    "plt.title('Mean normalized scarp profile')"
   ]
  },
  {
   "cell_type": "code",
   "execution_count": null,
   "id": "c154fa79-3243-46d2-a898-9c8fd53bfc57",
   "metadata": {},
   "outputs": [],
   "source": [
    "PCX=pd.DataFrame(U[0::2,:r_best])\n",
    "PCY=pd.DataFrame(U[1::2,:r_best])"
   ]
  },
  {
   "cell_type": "code",
   "execution_count": null,
   "id": "940af1a7-33bc-4f88-bad7-8da108e8e676",
   "metadata": {},
   "outputs": [],
   "source": [
    "#PC1\n",
    "PC1x = mean_2D['x']+PCX.iloc[:,0]\n",
    "PC1y = mean_2D['y']+PCY.iloc[:,0]\n",
    "fig,ax=plt.subplots()\n",
    "ax.plot(PC1x,PC1y,'k',linewidth=2)\n",
    "#ax.plot(x,y,'gray',linewidth=0.1)\n",
    "ax.plot(mean_2D['x'],mean_2D['y'],'b:',linewidth=2)\n",
    "ax.scatter(PC1x[260],PC1y[260])#,'k',linewidth=2)\n",
    "ax.scatter(mean_2D['x'][260],mean_2D['y'][260])#,'k',linewidth=2)\n",
    "\n",
    "#ax.plot(PCX.iloc[:,0],PCY.iloc[:,0],'r:')\n",
    "ax.set_aspect('equal')\n",
    "ax.set_title('PC1')"
   ]
  },
  {
   "cell_type": "code",
   "execution_count": null,
   "id": "632418c7-f7dc-4b62-8657-9942cbd72fde",
   "metadata": {},
   "outputs": [],
   "source": [
    "#PC2\n",
    "PC2x = mean_2D['x']+PCX.iloc[:,1]\n",
    "PC2y = mean_2D['y']+PCY.iloc[:,1]\n",
    "fig,ax=plt.subplots()\n",
    "ax.plot(PC2x,PC2y,'k')\n",
    "ax.plot(mean_2D['x'],mean_2D['y'],'b:')\n",
    "ax.scatter(PC2x[100],PC2y[100])#,'k',linewidth=2)\n",
    "ax.scatter(mean_2D['x'][100],mean_2D['y'][100])#,'k',linewidth=2)\n",
    "ax.set_aspect('equal')\n",
    "ax.set_title('PC2')"
   ]
  },
  {
   "cell_type": "code",
   "execution_count": null,
   "id": "825c5378-de12-40b2-a526-808def2e7fa9",
   "metadata": {},
   "outputs": [],
   "source": [
    "mean_line=pd.Series((np.ones(300))*0)"
   ]
  },
  {
   "cell_type": "code",
   "execution_count": null,
   "id": "ad334de8-0325-48ff-aa66-444f333cc055",
   "metadata": {},
   "outputs": [],
   "source": [
    "#PC3\n",
    "PC3x = mean_2D['x']+PCX.iloc[:,2]\n",
    "PC3y = mean_2D['y']+PCY.iloc[:,2]\n",
    "fig,ax=plt.subplots()\n",
    "ax.plot(PC3x,PC3y,'k')\n",
    "ax.plot(mean_2D['x'],mean_2D['y'],'b:')\n",
    "ax.set_title('PC3')"
   ]
  },
  {
   "cell_type": "code",
   "execution_count": null,
   "id": "061a8651-f1a5-4760-a418-d846bd609bff",
   "metadata": {},
   "outputs": [],
   "source": [
    "#PC4\n",
    "PC4x = mean_2D['x']+PCX.iloc[:,3]\n",
    "PC4y = mean_2D['y']+PCY.iloc[:,3]\n",
    "fig,ax=plt.subplots()\n",
    "ax.plot(PC4x,PC4y,'k')\n",
    "ax.plot(mean_2D['x'],mean_2D['y'],'b:')\n",
    "ax.set_title('PC4')"
   ]
  },
  {
   "cell_type": "code",
   "execution_count": null,
   "id": "78d716cc-672b-4d66-8c7c-072088c23cef",
   "metadata": {},
   "outputs": [],
   "source": [
    "#PC5\n",
    "PC5x = mean_2D['x']+PCX.iloc[:,4]\n",
    "PC5y = mean_2D['y']+PCY.iloc[:,4]\n",
    "fig,ax=plt.subplots()\n",
    "ax.plot(PC5x,PC5y,'k')\n",
    "ax.plot(mean_2D['x'],mean_2D['y'],'b:')\n",
    "ax.scatter(PC5x[100],PC5y[100])#,'k',linewidth=2)\n",
    "ax.scatter(mean_2D['x'][100],mean_2D['y'][100])\n",
    "ax.set_aspect('equal')\n",
    "ax.set_title('PC5')"
   ]
  },
  {
   "cell_type": "code",
   "execution_count": null,
   "id": "26744da0-198d-44c8-94b6-6de1411cc32c",
   "metadata": {},
   "outputs": [],
   "source": [
    "#PC6\n",
    "PC6x = mean_2D['x']+PCX.iloc[:,5]\n",
    "PC6y = mean_2D['y']+PCY.iloc[:,5]\n",
    "fig,ax=plt.subplots()\n",
    "ax.plot(PC6x,PC6y,'k')\n",
    "ax.plot(mean_2D['x'],mean_2D['y'],'b:')\n",
    "ax.set_title('PC6')"
   ]
  },
  {
   "cell_type": "code",
   "execution_count": null,
   "id": "d622ae88-e221-4af1-84f1-ecfdcb60ce86",
   "metadata": {},
   "outputs": [],
   "source": [
    "#PC7\n",
    "PC7x = mean_2D['x']+PCX.iloc[:,6]\n",
    "PC7y = mean_2D['y']+PCY.iloc[:,6]\n",
    "fig,ax=plt.subplots()\n",
    "ax.plot(PC7x,PC7y,'k')\n",
    "ax.plot(mean_2D['x'],mean_2D['y'],'b:')\n",
    "ax.set_title('PC7')"
   ]
  },
  {
   "cell_type": "code",
   "execution_count": null,
   "id": "ce980206-06bd-42e9-a86b-d0cb120822a1",
   "metadata": {},
   "outputs": [],
   "source": [
    "#PC8\n",
    "PC8x = mean_2D['x']+PCX.iloc[:,7]\n",
    "PC8y = mean_2D['y']+PCY.iloc[:,7]\n",
    "fig,ax=plt.subplots()\n",
    "ax.plot(PC8x,PC8y,'k')\n",
    "ax.plot(mean_2D['x'],mean_2D['y'],'b:')\n",
    "ax.set_title('PC8')"
   ]
  },
  {
   "cell_type": "code",
   "execution_count": null,
   "id": "db87a1fd-da3b-4a65-bcc3-30e31cd6ff22",
   "metadata": {},
   "outputs": [],
   "source": []
  }
 ],
 "metadata": {
  "kernelspec": {
   "display_name": "Python 3 (ipykernel)",
   "language": "python",
   "name": "python3"
  },
  "language_info": {
   "codemirror_mode": {
    "name": "ipython",
    "version": 3
   },
   "file_extension": ".py",
   "mimetype": "text/x-python",
   "name": "python",
   "nbconvert_exporter": "python",
   "pygments_lexer": "ipython3",
   "version": "3.9.13"
  }
 },
 "nbformat": 4,
 "nbformat_minor": 5
}
