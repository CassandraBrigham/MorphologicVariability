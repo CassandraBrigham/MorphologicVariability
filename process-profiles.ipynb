{
 "cells": [
  {
   "cell_type": "markdown",
   "id": "e94184cb-b6fb-4a70-adee-be0f4162843b",
   "metadata": {},
   "source": [
    "# morph-var 2"
   ]
  },
  {
   "cell_type": "markdown",
   "id": "e910add7-8aaf-4a7b-90f7-cd3c10c03d49",
   "metadata": {},
   "source": [
    "## Normalize landform-normal profiles"
   ]
  },
  {
   "cell_type": "markdown",
   "id": "47b22218-e4a2-4814-b46c-841752e26765",
   "metadata": {},
   "source": [
    "This is the second of five notebooks outlining the algorithm we used to quantify the morphologic variability of a linear landform. In this notebook, we use the output of the first notebook (morph-var 1), which is a folder containing text files with the coordinates and elevation data of points along each landform-normal profile. This notebook focuses on formatting and normalizing the profile data, so that they are ready for use in our classification algorithm (morph-var 3). \n",
    "\n",
    "To normalize the profiles, we calculate the two-dimensional coordinates of each profile, automatically determine the position of the crest and toe of the scarp, crop the the profile between the crest and the toe and normalize the profile by the scarp height. We store the new profiles in text files."
   ]
  },
  {
   "cell_type": "markdown",
   "id": "b67f3ff9-335d-4611-9bf7-ad458f6d2942",
   "metadata": {},
   "source": [
    "To calculate the curvature along the profile, we use geomdl, a pure Python, object-oriented B-Spline and NURBS library.\n",
    "\n",
    "Bingol, O. R., & Krishnamurthy, A. (2019). NURBS-Python: An open-source object-oriented NURBS modeling framework in Python. SoftwareX, 9, 85-94."
   ]
  },
  {
   "cell_type": "markdown",
   "id": "honest-browser",
   "metadata": {},
   "source": [
    "### Packages and libraries"
   ]
  },
  {
   "cell_type": "code",
   "execution_count": 1,
   "id": "blessed-observation",
   "metadata": {},
   "outputs": [],
   "source": [
    "import numpy as np\n",
    "import pandas as pd\n",
    "import os, re\n",
    "import matplotlib.pyplot as plt\n",
    "from geomdl import BSpline, utilities, evaluators, operations"
   ]
  },
  {
   "cell_type": "code",
   "execution_count": 2,
   "id": "2732e4ec-4705-4fad-adfa-c327991f24a8",
   "metadata": {},
   "outputs": [],
   "source": [
    "%matplotlib qt"
   ]
  },
  {
   "cell_type": "markdown",
   "id": "fb0a9d31-f67b-4b0d-aca0-e229303e0231",
   "metadata": {},
   "source": [
    "### Functions"
   ]
  },
  {
   "cell_type": "markdown",
   "id": "7b67a527-cebc-4e10-95ff-2b21dc5b451c",
   "metadata": {},
   "source": [
    "#### Calculate angle between two vectors"
   ]
  },
  {
   "cell_type": "code",
   "execution_count": 3,
   "id": "after-academy",
   "metadata": {},
   "outputs": [],
   "source": [
    "def calculate_angle(ba,bc): #the order of ba and bc in the inputs determines the direction inwhich the angle is calculated\n",
    "    \n",
    "    ang_a = np.arctan2(*ba[::-1])\n",
    "    ang_b = np.arctan2(*bc[::-1])\n",
    "    \n",
    "    return np.rad2deg((ang_b - ang_a) % (2 * np.pi)) #returns results in degrees"
   ]
  },
  {
   "cell_type": "markdown",
   "id": "83b58a6d-bdef-4bcc-b89e-ad10e8de0a44",
   "metadata": {},
   "source": [
    "#### Finding the crest of the scarp"
   ]
  },
  {
   "cell_type": "code",
   "execution_count": 4,
   "id": "483e71f4-8017-4fd5-baf0-24128a2627bf",
   "metadata": {},
   "outputs": [],
   "source": [
    "def find_crest(x,y,k,profile_names):\n",
    "    for a in profile_names:\n",
    "        # Add coordinate values, curvature and index values into a dataframe 'data'\n",
    "        x_temp = pd.Series(x[a])\n",
    "        y_temp = pd.Series(y[a])\n",
    "        original_index = pd.Series(list(x[a].index))\n",
    "        k_values = pd.Series(k[a])\n",
    "        frame = { 'x': x_temp, 'y': y_temp,'k': k_values,'original_index': original_index } \n",
    "        data = pd.DataFrame(frame)\n",
    "\n",
    "        #Define x_start and y_start as the coordinates of the first point in the profile\n",
    "        x_start = x_temp.iloc[0]\n",
    "        y_start = y_temp.iloc[0]\n",
    "\n",
    "        #Define x_end and y_end as the coordinates of the last point in the profile\n",
    "        x_end = x_temp.iloc[-1]\n",
    "        y_end = y_temp.iloc[-1]\n",
    "\n",
    "        # Find the indices of the local minima in the curvature values\n",
    "        index_k_local_minima = (np.diff(np.sign(np.diff(k_values))) > 0).nonzero()[0] + 1 \n",
    "\n",
    "        # Find the entries in 'data' that correspond to these minima\n",
    "        data_k_minima = data.iloc[list(index_k_local_minima)]\n",
    "        data_k_minima = data_k_minima.reset_index(drop=True)\n",
    "\n",
    "        #Assuming that the profile is roughly centered on the fault scarp line, mask entries in the last quarter of the profile\n",
    "        data_k_minima = data_k_minima[data_k_minima['y']>y_start/4]\n",
    "        \n",
    "        if len(data_k_minima['x'].values) == 1:\n",
    "            crest_x=data_k_minima['x'][0]\n",
    "            crest_y=data_k_minima['y'][0]\n",
    "            crest_idx=int(data_k_minima['original_index'][0])\n",
    "            crest_temp=pd.Series([crest_x,crest_y,crest_idx])\n",
    "            minima_x_temp=data_k_minima['x']\n",
    "            minima_y_temp=data_k_minima['y']\n",
    "            crest[a]=crest_temp\n",
    "            minima_x[a]=minima_x_temp\n",
    "            minima_y[a]=minima_y_temp\n",
    "        elif len(data_k_minima['x'].values) == 0:\n",
    "            crest_x = x_start\n",
    "            crest_y = y_start\n",
    "            crest_idx=0\n",
    "        else:\n",
    "\n",
    "            #Define X1 and Y1 as the coordinates of the profile minima\n",
    "            X1=data_k_minima['x']\n",
    "            Y1=data_k_minima['y']\n",
    "\n",
    "            # Define data series for angle measurements centered on the potential crest points (profile minima).\n",
    "            k_minima_angle=pd.Series(np.nan, index=list(X1.index),name='angle')\n",
    "\n",
    "            #Calculate angles\n",
    "            for n in list(X1.index):\n",
    "                c=np.array([X1[n],Y1[n]])\n",
    "\n",
    "                # m determines the number of points before and after each minima to use as an interval for the angle\n",
    "                m=10\n",
    "\n",
    "                #If m exceeds the number of points that come after the minima, use the end point for the angle calculation.\n",
    "                if int(data_k_minima['original_index'][n]+m)>=len(x_temp):\n",
    "                    d=np.array([x_end,y_end])\n",
    "                #Otherwise, use the point that is m points away from the minima in question as the furthest point for the angle calculation.\n",
    "                else: \n",
    "                    d=np.array([x_temp[int(data_k_minima['original_index'][n]+m)],y_temp[int(data_k_minima['original_index'][n]+m)]])\n",
    "\n",
    "                #If m exceeds the number of points that come before the minima, use the start point for the angle calculation.\n",
    "                if int(data_k_minima['original_index'][n]-m)<=0:\n",
    "                    b=np.array([x_start,y_start])\n",
    "                #Otherwise, use the point that is m points away from the minima in question as the closest point for the angle calculation.\n",
    "                else: \n",
    "                    b=np.array([x_temp[int(data_k_minima['original_index'][n]-m)],y_temp[int(data_k_minima['original_index'][n]-m)]])\n",
    "\n",
    "                #calculate vector coordinates\n",
    "                cb=b-c\n",
    "                cd=d-c\n",
    "\n",
    "                #Calculate angle between the three points\n",
    "                angle_temp=calculate_angle(cb,cd)\n",
    "                k_minima_angle[n]=angle_temp\n",
    "\n",
    "            #Determine the profile minima with the smallest angle {bcd}\n",
    "            k_minima_y_norm=1-(data_k_minima['y']-data_k_minima['y'].min())/((data_k_minima['y']-data_k_minima['y'].min()).max())\n",
    "            k_minima_angle_norm=(k_minima_angle-k_minima_angle.min())/((k_minima_angle-k_minima_angle.min()).max())\n",
    "            k_minima_sum=4*k_minima_angle_norm+k_minima_y_norm\n",
    "            idx_min=k_minima_sum.idxmin()\n",
    "\n",
    "            # Store the coordinates of this point as those of the crest\n",
    "            crest_x=data_k_minima['x'][idx_min]\n",
    "            crest_y=data_k_minima['y'][idx_min]\n",
    "            crest_idx=int(data_k_minima['original_index'][idx_min])\n",
    "            crest_temp=pd.Series([crest_x,crest_y,crest_idx])\n",
    "            minima_x_temp=data_k_minima['x']\n",
    "            minima_y_temp=data_k_minima['y']\n",
    "            crest[a]=crest_temp\n",
    "            minima_x[a]=minima_x_temp\n",
    "            minima_y[a]=minima_y_temp\n",
    "    \n",
    "    return crest, minima_x, minima_y"
   ]
  },
  {
   "cell_type": "markdown",
   "id": "5fc44c1b-2e4d-43b2-b7fc-9774773a71a3",
   "metadata": {},
   "source": [
    "#### Finding the toe of the scarp"
   ]
  },
  {
   "cell_type": "code",
   "execution_count": 5,
   "id": "f6839932-c0dc-4498-a2da-160be16076ce",
   "metadata": {},
   "outputs": [],
   "source": [
    "def find_toe(x,y,k,profile_names):\n",
    "    for a in profile_names:\n",
    "        # Add coordinate values, curvature and index values into a dataframe 'data'\n",
    "        x_temp = pd.Series(x[a])\n",
    "        y_temp = pd.Series(y[a])\n",
    "        original_index = pd.Series(list(x[a].index))\n",
    "        k_values = pd.Series(k[a])\n",
    "        frame = { 'x': x_temp, 'y': y_temp,'k': k_values,'original_index': original_index } \n",
    "        data = pd.DataFrame(frame)\n",
    "\n",
    "        # Find indices of the local maxima in curvature values\n",
    "        index_k_local_maxima = (np.diff(np.sign(np.diff(k_values))) < 0).nonzero()[0] + 1\n",
    "\n",
    "        # Find the entries in 'data' that correspond to these maxima\n",
    "        data_k_maxima = data.iloc[list(index_k_local_maxima)]\n",
    "        data_k_maxima = data_k_maxima.reset_index(drop=True)\n",
    "\n",
    "        #Define x_start and y_start as the coordinates of the first point in the profile\n",
    "        x_start = x_temp[0]\n",
    "        y_start = y_temp[0]\n",
    "\n",
    "        #Define x_end, y_end and idx_end as the coordinates and index of the last point in the profile\n",
    "        x_end = x_temp.iloc[-1]\n",
    "        y_end = y_temp.iloc[-1]\n",
    "        idx_end=list(x_temp.index)[-1]\n",
    "\n",
    "        #Define x_crest and y_crest as the coordinates and index of the profile crest\n",
    "        x_crest=crest[a].iloc[0]\n",
    "        y_crest=crest[a].iloc[1]\n",
    "\n",
    "        # Mask values with index before crest and with a height larger than 3/4 of the maximum height along the profile\n",
    "        idx_crest = crest[a].iloc[2]\n",
    "        data_k_maxima = data_k_maxima[data_k_maxima['original_index']>idx_crest]\n",
    "        data_k_maxima = data_k_maxima[data_k_maxima['y']<(3*y_temp.max()/4)]\n",
    "\n",
    "        #Define X1 and Y1 as the coordinates corresponding to the profile maxima\n",
    "        X1 = data_k_maxima['x']\n",
    "        Y1 = data_k_maxima['y']\n",
    "\n",
    "        #If there are no points corresponding to profile maxima after masking, select end point as toe of scarp\n",
    "        if data_k_maxima.empty==True:\n",
    "            toe_temp1=pd.Series([x_end,y_end,idx_end])\n",
    "            toe[a]=toe_temp1\n",
    "\n",
    "        #If 1 profile maxima remains, choose that point as the scarp toe.\n",
    "        elif len(data_k_maxima)==1:\n",
    "            toe_x = data_k_maxima['x'].iloc[0]\n",
    "            toe_y = data_k_maxima['y'].iloc[0]\n",
    "            toe_idx = data_k_maxima['original_index'].iloc[0]\n",
    "            toe_temp = pd.Series([toe_x,toe_y,toe_idx])\n",
    "            toe[a]=toe_temp\n",
    "        #Otherwise, calculate the angle between the scarp crest, the profile maxima, and a point with x-coordinate equal to that of the end point, and a y-coordinate equal to that of the profile y-coordinate minimum. This is to prevent any errors if the end point is higher than the maxima.    \n",
    "        else: \n",
    "            #Define data series to store angle measurements centered on profile maxima\n",
    "            k_maxima_angle=pd.Series(np.nan, index=list(X1.index),name='angle')\n",
    "\n",
    "            for n in list(X1.index):\n",
    "                b=np.array([x_crest,y_crest])\n",
    "                c=np.array([x_start,y_temp.max()])\n",
    "                d=np.array([X1[n],Y1[n]])\n",
    "\n",
    "                cb=b-c\n",
    "                cd=d-c\n",
    "\n",
    "                #Calculate angle {bcd}\n",
    "                angle_temp=calculate_angle(cd,cb)\n",
    "                k_maxima_angle[n]=angle_temp\n",
    "\n",
    "            #Determine the profile maxima with the smallest angle {bcd}\n",
    "            k_maxima_angle=k_maxima_angle[k_maxima_angle<180]\n",
    "            if k_maxima_angle.empty==True:\n",
    "                toe_temp1=pd.Series([x_end,y_end,idx_end])\n",
    "                toe[a]=toe_temp1\n",
    "            else:\n",
    "\n",
    "                idx_sum_min=k_maxima_angle.idxmax()\n",
    "                data_k_maxima_angle=pd.concat([data_k_maxima,k_maxima_angle],axis=1)#.reset_index(drop=True)\n",
    "                toe_x=data_k_maxima_angle['x'][idx_sum_min]\n",
    "                toe_y=data_k_maxima_angle['y'][idx_sum_min]\n",
    "                toe_idx=data_k_maxima_angle['original_index'][idx_sum_min]\n",
    "                toe_temp2=pd.Series([toe_x,toe_y,toe_idx])\n",
    "                maxima_x[a]=data_k_maxima['x']\n",
    "                maxima_y[a]=data_k_maxima['y']\n",
    "                toe[a]=toe_temp2\n",
    "    return toe, maxima_x, maxima_y"
   ]
  },
  {
   "cell_type": "markdown",
   "id": "71eb5f16-5733-4195-9c2c-e539123f8633",
   "metadata": {},
   "source": [
    "#### Calculate scarp height"
   ]
  },
  {
   "cell_type": "code",
   "execution_count": 6,
   "id": "brown-hypothetical",
   "metadata": {},
   "outputs": [],
   "source": [
    "#Define function to calculate scarp height based on indices of crest and toe and Z\n",
    "def find_height_idx(idx_1,idx_2,z_data,a):\n",
    "    return z_data[a].iloc[idx_1[a][0]]-z_data[a].iloc[idx_2[a][0]]"
   ]
  },
  {
   "cell_type": "markdown",
   "id": "0eaed03c-2ca9-4021-b71a-30cfd72dc1da",
   "metadata": {},
   "source": [
    "#### Distance along scarp"
   ]
  },
  {
   "cell_type": "code",
   "execution_count": 7,
   "id": "b2c6aaaf-ef2f-4193-84f0-b5b8f83ccebc",
   "metadata": {},
   "outputs": [],
   "source": [
    "#Define function to calculate distance between crests\n",
    "def find_distance(x,y):\n",
    "    return np.hstack((0,np.cumsum(((x[1:]-x[:-1])**2+(y[1:]-y[:-1])**2)**0.5)))"
   ]
  },
  {
   "cell_type": "markdown",
   "id": "needed-procurement",
   "metadata": {},
   "source": [
    "### Import profile data"
   ]
  },
  {
   "cell_type": "code",
   "execution_count": 8,
   "id": "boring-bobby",
   "metadata": {},
   "outputs": [],
   "source": [
    "# Define function load_data to read x,y,z data from text files into three separate dataframes (dataclass_x,dataclass_y,dataclass_z) for each class. Rows of the dataframes indicate the number of points in a profile, columns indicate the index of the profiles.  \n",
    "def load_data(data,path): # inputs are a regular expression indicating text files names ('data'), and the directory path to thses files ('path')\n",
    "    data_x_temp = []\n",
    "    data_y_temp = []\n",
    "    data_z_temp = []\n",
    "    filenames = [filename for filename in os.listdir(path) if re.match(data, filename)]#create list of desired file names based on regular expression\n",
    "    for file in filenames:\n",
    "            # Load x-coordinate data from files matching filenames\n",
    "            data_x_temp.append(\n",
    "                list(pd.read_csv(path+\"/\"+file)['Easting']))\n",
    "            # Load y-coordinate data from files matching filenames\n",
    "            data_y_temp.append(\n",
    "                list(pd.read_csv(path+\"/\"+file)['Westing']))\n",
    "            # Load z-coordinate data from files matching filenames\n",
    "            data_z_temp.append(\n",
    "                list(pd.read_csv(path+\"/\"+file)['elevation'])) \n",
    "    # Create 3 dataframes for x,y, and z-coordinate data, with the text file names as the columns\n",
    "    dataclass_x = pd.DataFrame(data_x_temp).transpose() \n",
    "    dataclass_y = pd.DataFrame(data_y_temp).transpose()\n",
    "    dataclass_z = pd.DataFrame(data_z_temp).transpose()\n",
    "    dataclass_x.columns = filenames\n",
    "    dataclass_y.columns = filenames\n",
    "    dataclass_z.columns = filenames\n",
    "    return dataclass_x, dataclass_y, dataclass_z"
   ]
  },
  {
   "cell_type": "code",
   "execution_count": 9,
   "id": "foreign-portsmouth",
   "metadata": {},
   "outputs": [],
   "source": [
    "# Use load_data with desired file name regular expression and directory path to text files with 3-D profile coordinates (1 file per profile).\n",
    "landform_name='KauDesert'\n",
    "files = \".*.txt\"\n",
    "folder = landform_name+'_raw_profiles/'\n",
    "path = folder\n",
    "(data_x, data_y, data_z) = load_data(files,path)"
   ]
  },
  {
   "cell_type": "code",
   "execution_count": 10,
   "id": "incredible-hepatitis",
   "metadata": {},
   "outputs": [],
   "source": [
    "#Reorder profiles so that the profile numbers are sequential and ascending.\n",
    "col1 = data_x.columns.sort_values()\n",
    "col2 = data_y.columns.sort_values()\n",
    "col3 = data_z.columns.sort_values()\n",
    "data_x = data_x[col1]\n",
    "data_y = data_y[col2]\n",
    "data_z = data_z[col3]"
   ]
  },
  {
   "cell_type": "code",
   "execution_count": 11,
   "id": "exempt-aggregate",
   "metadata": {},
   "outputs": [],
   "source": [
    "#Obtain list of all profiles names, to iterate through the profiles\n",
    "profile_names = list(data_x.columns)\n",
    "#Remove any empty profiles\n",
    "profile_names = [a for a in profile_names if len(data_x[a].dropna())>0]\n",
    "data_x=data_x[profile_names]\n",
    "data_y=data_y[profile_names]\n",
    "data_z=data_z[profile_names]\n",
    "#Obtain list of all unique landform names, to determine the number of landforms present in dataset and to separate the scarps by landform.\n",
    "landform_names=[]\n",
    "for a in profile_names:\n",
    "    m = re.search('^(.*)[_]', a) #Isolate the portion of the profile file name that contains the landform name (everything before the last underscore, with file names following this structure:'LandformName_ProfileNumber.txt')\n",
    "    if m:\n",
    "        found = m.group(1)\n",
    "        landform_names.append(found)\n",
    "landform_names=list(set(landform_names)) #Convert to set then back to list to get unique landform names."
   ]
  },
  {
   "cell_type": "markdown",
   "id": "rubber-dublin",
   "metadata": {},
   "source": [
    "## Format profile coordinates"
   ]
  },
  {
   "cell_type": "code",
   "execution_count": 12,
   "id": "liable-spanish",
   "metadata": {},
   "outputs": [],
   "source": [
    "# In order to obtain the elevation component of the scarp profile (Z), normalize the data_z values for each landform so that the minimum value is 0.\n",
    "Z=[]\n",
    "filenames = [filename for filename in profile_names if re.match(f'{landform_names}.*.txt', filename)]\n",
    "for a in filenames:\n",
    "    data_z_temp=data_z[a]\n",
    "    data_z_min=data_z[a].min()\n",
    "    Z_temp = data_z_temp - data_z_min\n",
    "    Z.append(Z_temp)\n",
    "Z=pd.DataFrame(Z).transpose()\n",
    "Z.columns=filenames\n",
    "col_sorted=Z.columns.sort_values()\n",
    "Z=Z[col_sorted]"
   ]
  },
  {
   "cell_type": "code",
   "execution_count": 153,
   "id": "pointed-finland",
   "metadata": {},
   "outputs": [],
   "source": [
    "# All profiles need to be in the same orientation (crest closest to origin), so we need to determine which profiles are in the incorrect orientation so that we can reverse them later.\n",
    "lst = []\n",
    "[rows,columns] = Z.shape\n",
    "for n in range(columns):\n",
    "    idx = Z.apply(pd.Series.last_valid_index)\n",
    "    column_name = Z.columns[n]\n",
    "    if Z.values[0,n] < Z.values[idx[n],n]: #find the filenames that have profiles where the first value of Z is lower than the last\n",
    "        lst.append(column_name) #store in list 'lst\n",
    "        \n",
    "# In order to obtain the distance component of the scarp profile (M), we need to calculate the cummulative 2D profile distances between points using data_x and data_y (M_temp).\n",
    "# However, if the profiles are in the reversed order, we need to flip them and use the distance between the points (M_dist) to reconstruct the profile.\n",
    "# The final distance measurements are stored in dataframe M.\n",
    "\n",
    "# Calculate 2D profile distance using data_x and data_y, store in dataframe M_temp.\n",
    "M_temp = pd.DataFrame(((data_x.loc[1:,:]-data_x.loc[0])**2 +(data_y.loc[1:,:]-data_y.loc[0])**2)**0.5)\n",
    "df_0=pd.DataFrame(np.zeros((1,M_temp.shape[1])),columns = M_temp.columns)\n",
    "M_temp = pd.concat([df_0,M_temp])\n",
    "\n",
    "\n",
    "# Calculate horizontal distance between points (M_dist) by looking at difference between points in M_temp.\n",
    "M_dist = pd.DataFrame()\n",
    "M = pd.DataFrame()\n",
    "M2 = M_temp.loc[1:rows+1]\n",
    "M2.index -= 1\n",
    "M1 = M_temp.loc[0:rows]\n",
    "M_dist = M2 - M1\n",
    "M_dist = pd.concat([df_0,M_dist])\n",
    "M_dist = M_dist.reset_index(drop=True).drop(M_dist.tail(1).index)\n",
    "\n",
    "# Change the order of the Z and M_dist measurements for the reversed profiles and calculate the cummulative sum of M_dist, store in M.\n",
    "for b in lst:\n",
    "    Z_temp_flip_array = np.flipud(Z[b].to_numpy())\n",
    "    Z_temp_flip_array = Z_temp_flip_array[~np.isnan(Z_temp_flip_array)]\n",
    "    M_dist_flip_array = np.flipud(M_dist[b].to_numpy())\n",
    "    M_dist_flip_array = M_dist_flip_array[~np.isnan(M_dist_flip_array)]\n",
    "    Z[b] = pd.Series(Z_temp_flip_array)\n",
    "    M_dist[b] = pd.Series(M_dist_flip_array)\n",
    "M = M_dist.cumsum()\n",
    "M = M[col_sorted]"
   ]
  },
  {
   "cell_type": "code",
   "execution_count": 154,
   "id": "005a0bcd-0f48-49bc-a9e4-37ccd8a3d8a5",
   "metadata": {},
   "outputs": [],
   "source": [
    "path=\"All_2D_raw/\"\n",
    "if os.path.exists(path)==False: \n",
    "    os.mkdir(path)"
   ]
  },
  {
   "cell_type": "code",
   "execution_count": 155,
   "id": "bbf34278-7648-409b-9425-320223ac4e54",
   "metadata": {},
   "outputs": [],
   "source": [
    "for a in landform_names:\n",
    "    i = 0\n",
    "    landform_profile_names=[s for s in profile_names if f\"{a}\" in s]\n",
    "    for b in landform_profile_names:\n",
    "        scarp_name = a\n",
    "        profile = pd.concat([M[b],Z[b]], axis =1, join = 'outer', ignore_index = False)\n",
    "        profile.columns = ['M','Z']\n",
    "        file = scarp_name+f'_{i}.txt'\n",
    "        i += 1\n",
    "        profile.to_csv(path+file)"
   ]
  },
  {
   "cell_type": "code",
   "execution_count": 156,
   "id": "4c55f200-ab62-4a47-aa62-fcf5fa874d44",
   "metadata": {},
   "outputs": [],
   "source": [
    "Z_norm=pd.DataFrame([Z[a]/Z[a].max() for a in list(M.columns)]).transpose()\n",
    "M_norm=pd.DataFrame([M[a]/Z[a].max() for a in list(M.columns)]).transpose()"
   ]
  },
  {
   "cell_type": "code",
   "execution_count": 157,
   "id": "64ae5d1c-ed64-4574-bfa9-171bd232a2cf",
   "metadata": {},
   "outputs": [],
   "source": [
    "path=\"All_2D_normalized/\"\n",
    "if os.path.exists(path)==False: \n",
    "    os.mkdir(path)"
   ]
  },
  {
   "cell_type": "code",
   "execution_count": 158,
   "id": "34e4b0a5-146d-4745-a492-db524ab17fd3",
   "metadata": {},
   "outputs": [],
   "source": [
    "for a in landform_names:\n",
    "    i = 0\n",
    "    landform_profile_names=[s for s in profile_names if f\"{a}\" in s]\n",
    "    for b in landform_profile_names:\n",
    "        scarp_name = a\n",
    "        profile = pd.concat([M_norm[b],Z_norm[b]], axis =1, join = 'outer', ignore_index = False)\n",
    "        profile.columns = ['M_norm','Z_norm']\n",
    "        file = scarp_name+f'_norm_{i}.txt'\n",
    "        i += 1\n",
    "        profile.to_csv(path+file)"
   ]
  },
  {
   "cell_type": "markdown",
   "id": "answering-guard",
   "metadata": {},
   "source": [
    "## Fit B-spline to 2-D profiles and calculate curvature"
   ]
  },
  {
   "cell_type": "code",
   "execution_count": 159,
   "id": "ready-dominant",
   "metadata": {},
   "outputs": [],
   "source": [
    "# Create dataframes to store the points at which the curve was evaluated (x and y) and the curvature at those points (k).\n",
    "x = pd.DataFrame()\n",
    "y = pd.DataFrame()\n",
    "k = pd.DataFrame()\n",
    "\n",
    "#Set evaluation interval (=total number of observations in {x,y,k})\n",
    "evaluate = pd.Series(np.linspace(0,1,100))\n",
    "\n",
    "#Set the spacing at which M is evaluated\n",
    "spacing = int(len(M))"
   ]
  },
  {
   "cell_type": "code",
   "execution_count": 160,
   "id": "warming-generator",
   "metadata": {},
   "outputs": [],
   "source": [
    "# For each profile, fit the data with a B-spline, calculate its derivatives, calculate curvature.\n",
    "x=[]\n",
    "y=[]\n",
    "k=[]\n",
    "for a in profile_names:\n",
    "    # M and Z are the control points, convert to list of coordinate tuples L\n",
    "    if len(M[a].dropna())/spacing>5:\n",
    "        M_temp = M[a].dropna()[0::spacing]\n",
    "        Z_temp = Z[a].dropna()[0::spacing]\n",
    "    else:\n",
    "        M_temp= M[a].dropna()\n",
    "        Z_temp=Z[a].dropna()\n",
    "    L = list(zip(M_temp,Z_temp)) # zip M_temp and Z_temp to create list of tuples of points\n",
    "    # Create B-Spline curve\n",
    "    curve = BSpline.Curve() # define the BSpline curve\n",
    "    curve.degree =3# define the degree of the curve\n",
    "    curve.ctrlpts = L # set control points as list of tuples L\n",
    "    curve.knotvector = utilities.generate_knot_vector(curve.degree, len(curve.ctrlpts)) # auto-generate knot vector\n",
    "    curve.evaluate() # evaluate curve\n",
    "    # Calculate x,y coordinates and derivatives of curve at u values\n",
    "    x_temp = []\n",
    "    y_temp = []\n",
    "    k_temp = []\n",
    "    for i in evaluate.iloc[:-1]:\n",
    "        ders = curve.derivatives(i, order = 2) # calculate 1st and 2nd derivatives of the curve at u, returns 3 tuples defined below.\n",
    "        x_temp2 = ders[0][0] # x-position at u\n",
    "        y_temp2 = ders[0][1] # y-position at u\n",
    "        der1x = ders[1][0] # 1st derivative with respect to x\n",
    "        der1y = ders[1][1] # 1st derivative with respect to y\n",
    "        der2x = ders[2][0] # 2nd derivative with respect to x\n",
    "        der2y = ders[2][1] # 2nd derivative with respect to y\n",
    "        k_temp2 = ((der1x*der2y)-(der1y*der2x))/((((der1x)**2)+((der1y)**2))**(3/2)) # calculate curvature using formula for parametric curves.\n",
    "        k_temp.append(k_temp2)\n",
    "        x_temp.append(x_temp2)\n",
    "        y_temp.append(y_temp2)\n",
    "    x.append(x_temp)\n",
    "    y.append(y_temp)\n",
    "    k.append(k_temp)\n",
    "x=pd.DataFrame(x).transpose()\n",
    "x.columns=filenames\n",
    "y=pd.DataFrame(y).transpose()\n",
    "y.columns=filenames\n",
    "k=pd.DataFrame(k).transpose()\n",
    "k.columns=filenames"
   ]
  },
  {
   "cell_type": "code",
   "execution_count": 161,
   "id": "bronze-panic",
   "metadata": {},
   "outputs": [],
   "source": [
    "n=0\n",
    "a=0\n",
    "filenames = [filename for filename in filenames if re.match(f'{landform_names[n]}.*.txt', filename)]\n",
    "fig,ax=plt.subplots()\n",
    "ax.plot(x[filenames[a]],y[filenames[a]],c='b')\n",
    "ax.plot(M[filenames[a]],Z[filenames[a]],c='k')\n",
    "\n",
    "ax.set_aspect('equal')"
   ]
  },
  {
   "cell_type": "markdown",
   "id": "abstract-pilot",
   "metadata": {},
   "source": [
    "## Determine position of crest and toe"
   ]
  },
  {
   "cell_type": "markdown",
   "id": "opened-dream",
   "metadata": {},
   "source": [
    "#### Determine position of scarp crest"
   ]
  },
  {
   "cell_type": "code",
   "execution_count": 162,
   "id": "hidden-course",
   "metadata": {},
   "outputs": [],
   "source": [
    "# Define dataframe for the 2D coordinates and the index of the crest of the scarp.\n",
    "crest = pd.DataFrame(columns=profile_names,index=[0,1,2])\n",
    "minima_x=pd.DataFrame(columns=profile_names,index=range(0,1000))\n",
    "minima_y=pd.DataFrame(columns=profile_names,index=range(0,1000))"
   ]
  },
  {
   "cell_type": "code",
   "execution_count": 163,
   "id": "4915191d-69d7-4221-b0e4-d5a6fc726e88",
   "metadata": {},
   "outputs": [],
   "source": [
    "crest, minima_x, minima_y=find_crest(x,y,k,profile_names)"
   ]
  },
  {
   "cell_type": "code",
   "execution_count": 164,
   "id": "monthly-benjamin",
   "metadata": {},
   "outputs": [
    {
     "data": {
      "text/html": [
       "<div>\n",
       "<style scoped>\n",
       "    .dataframe tbody tr th:only-of-type {\n",
       "        vertical-align: middle;\n",
       "    }\n",
       "\n",
       "    .dataframe tbody tr th {\n",
       "        vertical-align: top;\n",
       "    }\n",
       "\n",
       "    .dataframe thead th {\n",
       "        text-align: right;\n",
       "    }\n",
       "</style>\n",
       "<table border=\"1\" class=\"dataframe\">\n",
       "  <thead>\n",
       "    <tr style=\"text-align: right;\">\n",
       "      <th></th>\n",
       "      <th>KauDesert_000000.txt</th>\n",
       "      <th>KauDesert_000001.txt</th>\n",
       "      <th>KauDesert_000002.txt</th>\n",
       "      <th>KauDesert_000003.txt</th>\n",
       "      <th>KauDesert_000004.txt</th>\n",
       "      <th>KauDesert_000005.txt</th>\n",
       "      <th>KauDesert_000006.txt</th>\n",
       "      <th>KauDesert_000007.txt</th>\n",
       "      <th>KauDesert_000008.txt</th>\n",
       "      <th>KauDesert_000009.txt</th>\n",
       "      <th>...</th>\n",
       "      <th>KauDesert_005126.txt</th>\n",
       "      <th>KauDesert_005127.txt</th>\n",
       "      <th>KauDesert_005128.txt</th>\n",
       "      <th>KauDesert_005129.txt</th>\n",
       "      <th>KauDesert_005130.txt</th>\n",
       "      <th>KauDesert_005131.txt</th>\n",
       "      <th>KauDesert_005132.txt</th>\n",
       "      <th>KauDesert_005133.txt</th>\n",
       "      <th>KauDesert_005134.txt</th>\n",
       "      <th>KauDesert_005135.txt</th>\n",
       "    </tr>\n",
       "  </thead>\n",
       "  <tbody>\n",
       "    <tr>\n",
       "      <th>0</th>\n",
       "      <td>6.030303</td>\n",
       "      <td>9.963283</td>\n",
       "      <td>9.575758</td>\n",
       "      <td>6.000000</td>\n",
       "      <td>10.284714</td>\n",
       "      <td>11.947417</td>\n",
       "      <td>12.932327</td>\n",
       "      <td>11.939394</td>\n",
       "      <td>12.828635</td>\n",
       "      <td>4.969697</td>\n",
       "      <td>...</td>\n",
       "      <td>6.848485</td>\n",
       "      <td>6.979798</td>\n",
       "      <td>9.030303</td>\n",
       "      <td>6.979798</td>\n",
       "      <td>15.030303</td>\n",
       "      <td>7.858586</td>\n",
       "      <td>6.808081</td>\n",
       "      <td>15.858586</td>\n",
       "      <td>15.090909</td>\n",
       "      <td>7.939394</td>\n",
       "    </tr>\n",
       "    <tr>\n",
       "      <th>1</th>\n",
       "      <td>0.822176</td>\n",
       "      <td>0.141639</td>\n",
       "      <td>0.844874</td>\n",
       "      <td>0.916636</td>\n",
       "      <td>0.773141</td>\n",
       "      <td>0.486303</td>\n",
       "      <td>0.275761</td>\n",
       "      <td>0.621356</td>\n",
       "      <td>0.574645</td>\n",
       "      <td>0.940129</td>\n",
       "      <td>...</td>\n",
       "      <td>6.898087</td>\n",
       "      <td>6.333391</td>\n",
       "      <td>5.859038</td>\n",
       "      <td>5.957730</td>\n",
       "      <td>5.588085</td>\n",
       "      <td>6.338788</td>\n",
       "      <td>6.442344</td>\n",
       "      <td>5.587641</td>\n",
       "      <td>5.517194</td>\n",
       "      <td>6.785929</td>\n",
       "    </tr>\n",
       "    <tr>\n",
       "      <th>2</th>\n",
       "      <td>57.000000</td>\n",
       "      <td>97.000000</td>\n",
       "      <td>75.000000</td>\n",
       "      <td>36.000000</td>\n",
       "      <td>82.000000</td>\n",
       "      <td>89.000000</td>\n",
       "      <td>97.000000</td>\n",
       "      <td>82.000000</td>\n",
       "      <td>89.000000</td>\n",
       "      <td>21.000000</td>\n",
       "      <td>...</td>\n",
       "      <td>16.000000</td>\n",
       "      <td>17.000000</td>\n",
       "      <td>24.000000</td>\n",
       "      <td>17.000000</td>\n",
       "      <td>43.000000</td>\n",
       "      <td>20.000000</td>\n",
       "      <td>17.000000</td>\n",
       "      <td>49.000000</td>\n",
       "      <td>48.000000</td>\n",
       "      <td>21.000000</td>\n",
       "    </tr>\n",
       "  </tbody>\n",
       "</table>\n",
       "<p>3 rows × 5136 columns</p>\n",
       "</div>"
      ],
      "text/plain": [
       "   KauDesert_000000.txt  KauDesert_000001.txt  KauDesert_000002.txt  \\\n",
       "0              6.030303              9.963283              9.575758   \n",
       "1              0.822176              0.141639              0.844874   \n",
       "2             57.000000             97.000000             75.000000   \n",
       "\n",
       "   KauDesert_000003.txt  KauDesert_000004.txt  KauDesert_000005.txt  \\\n",
       "0              6.000000             10.284714             11.947417   \n",
       "1              0.916636              0.773141              0.486303   \n",
       "2             36.000000             82.000000             89.000000   \n",
       "\n",
       "   KauDesert_000006.txt  KauDesert_000007.txt  KauDesert_000008.txt  \\\n",
       "0             12.932327             11.939394             12.828635   \n",
       "1              0.275761              0.621356              0.574645   \n",
       "2             97.000000             82.000000             89.000000   \n",
       "\n",
       "   KauDesert_000009.txt  ...  KauDesert_005126.txt  KauDesert_005127.txt  \\\n",
       "0              4.969697  ...              6.848485              6.979798   \n",
       "1              0.940129  ...              6.898087              6.333391   \n",
       "2             21.000000  ...             16.000000             17.000000   \n",
       "\n",
       "   KauDesert_005128.txt  KauDesert_005129.txt  KauDesert_005130.txt  \\\n",
       "0              9.030303              6.979798             15.030303   \n",
       "1              5.859038              5.957730              5.588085   \n",
       "2             24.000000             17.000000             43.000000   \n",
       "\n",
       "   KauDesert_005131.txt  KauDesert_005132.txt  KauDesert_005133.txt  \\\n",
       "0              7.858586              6.808081             15.858586   \n",
       "1              6.338788              6.442344              5.587641   \n",
       "2             20.000000             17.000000             49.000000   \n",
       "\n",
       "   KauDesert_005134.txt  KauDesert_005135.txt  \n",
       "0             15.090909              7.939394  \n",
       "1              5.517194              6.785929  \n",
       "2             48.000000             21.000000  \n",
       "\n",
       "[3 rows x 5136 columns]"
      ]
     },
     "execution_count": 164,
     "metadata": {},
     "output_type": "execute_result"
    }
   ],
   "source": [
    "crest"
   ]
  },
  {
   "cell_type": "code",
   "execution_count": 165,
   "id": "9b62de8f-513d-47e3-9b6b-42819d669eb7",
   "metadata": {},
   "outputs": [],
   "source": [
    "profile_names=[a for a in profile_names if len(crest[a].dropna())!=0]\n",
    "crest=crest[profile_names]"
   ]
  },
  {
   "cell_type": "markdown",
   "id": "racial-blues",
   "metadata": {},
   "source": [
    "#### Determine position of scarp toe"
   ]
  },
  {
   "cell_type": "code",
   "execution_count": 166,
   "id": "79707ad5-7bd1-4eca-b32e-7f8f0db67e64",
   "metadata": {},
   "outputs": [],
   "source": [
    "# Define dataframe for the 2D coordinates and the index of the toe of the scarp.\n",
    "toe = pd.DataFrame(columns=profile_names,index=[0,1,2])\n",
    "maxima_x=pd.DataFrame(columns=profile_names,index=range(0,1000))\n",
    "maxima_y=pd.DataFrame(columns=profile_names,index=range(0,1000))"
   ]
  },
  {
   "cell_type": "code",
   "execution_count": 167,
   "id": "c04976c8-d429-4e31-a7b7-d630c14dc750",
   "metadata": {},
   "outputs": [],
   "source": [
    "toe, maxima_x, maxima_y=find_toe(x,y,k,profile_names)"
   ]
  },
  {
   "cell_type": "code",
   "execution_count": 168,
   "id": "ab836388-a602-4122-aa86-811f4d618669",
   "metadata": {},
   "outputs": [
    {
     "data": {
      "text/html": [
       "<div>\n",
       "<style scoped>\n",
       "    .dataframe tbody tr th:only-of-type {\n",
       "        vertical-align: middle;\n",
       "    }\n",
       "\n",
       "    .dataframe tbody tr th {\n",
       "        vertical-align: top;\n",
       "    }\n",
       "\n",
       "    .dataframe thead th {\n",
       "        text-align: right;\n",
       "    }\n",
       "</style>\n",
       "<table border=\"1\" class=\"dataframe\">\n",
       "  <thead>\n",
       "    <tr style=\"text-align: right;\">\n",
       "      <th></th>\n",
       "      <th>KauDesert_000000.txt</th>\n",
       "      <th>KauDesert_000001.txt</th>\n",
       "      <th>KauDesert_000002.txt</th>\n",
       "      <th>KauDesert_000003.txt</th>\n",
       "      <th>KauDesert_000004.txt</th>\n",
       "      <th>KauDesert_000005.txt</th>\n",
       "      <th>KauDesert_000006.txt</th>\n",
       "      <th>KauDesert_000007.txt</th>\n",
       "      <th>KauDesert_000008.txt</th>\n",
       "      <th>KauDesert_000009.txt</th>\n",
       "      <th>...</th>\n",
       "      <th>KauDesert_005126.txt</th>\n",
       "      <th>KauDesert_005127.txt</th>\n",
       "      <th>KauDesert_005128.txt</th>\n",
       "      <th>KauDesert_005129.txt</th>\n",
       "      <th>KauDesert_005130.txt</th>\n",
       "      <th>KauDesert_005131.txt</th>\n",
       "      <th>KauDesert_005132.txt</th>\n",
       "      <th>KauDesert_005133.txt</th>\n",
       "      <th>KauDesert_005134.txt</th>\n",
       "      <th>KauDesert_005135.txt</th>\n",
       "    </tr>\n",
       "  </thead>\n",
       "  <tbody>\n",
       "    <tr>\n",
       "      <th>0</th>\n",
       "      <td>8.992707</td>\n",
       "      <td>9.990513</td>\n",
       "      <td>11.070732</td>\n",
       "      <td>8.00000</td>\n",
       "      <td>11.985297</td>\n",
       "      <td>12.224508</td>\n",
       "      <td>12.982282</td>\n",
       "      <td>12.971700</td>\n",
       "      <td>12.971700</td>\n",
       "      <td>14.759329</td>\n",
       "      <td>...</td>\n",
       "      <td>28.060606</td>\n",
       "      <td>23.969697</td>\n",
       "      <td>27.191919</td>\n",
       "      <td>27.191919</td>\n",
       "      <td>27.151515</td>\n",
       "      <td>23.090909</td>\n",
       "      <td>28.923314</td>\n",
       "      <td>28.602616</td>\n",
       "      <td>27.657839</td>\n",
       "      <td>28.602616</td>\n",
       "    </tr>\n",
       "    <tr>\n",
       "      <th>1</th>\n",
       "      <td>0.068373</td>\n",
       "      <td>0.076432</td>\n",
       "      <td>0.407315</td>\n",
       "      <td>0.72998</td>\n",
       "      <td>0.037667</td>\n",
       "      <td>0.436230</td>\n",
       "      <td>0.150209</td>\n",
       "      <td>0.414747</td>\n",
       "      <td>0.550636</td>\n",
       "      <td>0.308505</td>\n",
       "      <td>...</td>\n",
       "      <td>1.209311</td>\n",
       "      <td>1.609478</td>\n",
       "      <td>0.694115</td>\n",
       "      <td>0.725000</td>\n",
       "      <td>1.606310</td>\n",
       "      <td>2.212431</td>\n",
       "      <td>0.442776</td>\n",
       "      <td>0.441824</td>\n",
       "      <td>0.280093</td>\n",
       "      <td>0.201256</td>\n",
       "    </tr>\n",
       "    <tr>\n",
       "      <th>2</th>\n",
       "      <td>98.000000</td>\n",
       "      <td>98.000000</td>\n",
       "      <td>89.000000</td>\n",
       "      <td>54.00000</td>\n",
       "      <td>98.000000</td>\n",
       "      <td>91.000000</td>\n",
       "      <td>98.000000</td>\n",
       "      <td>90.000000</td>\n",
       "      <td>90.000000</td>\n",
       "      <td>90.000000</td>\n",
       "      <td>...</td>\n",
       "      <td>86.000000</td>\n",
       "      <td>75.000000</td>\n",
       "      <td>86.000000</td>\n",
       "      <td>86.000000</td>\n",
       "      <td>83.000000</td>\n",
       "      <td>72.000000</td>\n",
       "      <td>95.000000</td>\n",
       "      <td>94.000000</td>\n",
       "      <td>94.000000</td>\n",
       "      <td>94.000000</td>\n",
       "    </tr>\n",
       "  </tbody>\n",
       "</table>\n",
       "<p>3 rows × 5136 columns</p>\n",
       "</div>"
      ],
      "text/plain": [
       "   KauDesert_000000.txt  KauDesert_000001.txt  KauDesert_000002.txt  \\\n",
       "0              8.992707              9.990513             11.070732   \n",
       "1              0.068373              0.076432              0.407315   \n",
       "2             98.000000             98.000000             89.000000   \n",
       "\n",
       "   KauDesert_000003.txt  KauDesert_000004.txt  KauDesert_000005.txt  \\\n",
       "0               8.00000             11.985297             12.224508   \n",
       "1               0.72998              0.037667              0.436230   \n",
       "2              54.00000             98.000000             91.000000   \n",
       "\n",
       "   KauDesert_000006.txt  KauDesert_000007.txt  KauDesert_000008.txt  \\\n",
       "0             12.982282             12.971700             12.971700   \n",
       "1              0.150209              0.414747              0.550636   \n",
       "2             98.000000             90.000000             90.000000   \n",
       "\n",
       "   KauDesert_000009.txt  ...  KauDesert_005126.txt  KauDesert_005127.txt  \\\n",
       "0             14.759329  ...             28.060606             23.969697   \n",
       "1              0.308505  ...              1.209311              1.609478   \n",
       "2             90.000000  ...             86.000000             75.000000   \n",
       "\n",
       "   KauDesert_005128.txt  KauDesert_005129.txt  KauDesert_005130.txt  \\\n",
       "0             27.191919             27.191919             27.151515   \n",
       "1              0.694115              0.725000              1.606310   \n",
       "2             86.000000             86.000000             83.000000   \n",
       "\n",
       "   KauDesert_005131.txt  KauDesert_005132.txt  KauDesert_005133.txt  \\\n",
       "0             23.090909             28.923314             28.602616   \n",
       "1              2.212431              0.442776              0.441824   \n",
       "2             72.000000             95.000000             94.000000   \n",
       "\n",
       "   KauDesert_005134.txt  KauDesert_005135.txt  \n",
       "0             27.657839             28.602616  \n",
       "1              0.280093              0.201256  \n",
       "2             94.000000             94.000000  \n",
       "\n",
       "[3 rows x 5136 columns]"
      ]
     },
     "execution_count": 168,
     "metadata": {},
     "output_type": "execute_result"
    }
   ],
   "source": [
    "toe"
   ]
  },
  {
   "cell_type": "code",
   "execution_count": 170,
   "id": "f1b6dcef-2b19-465d-b680-158769e444b7",
   "metadata": {},
   "outputs": [],
   "source": [
    "M=M[profile_names]\n",
    "Z=Z[profile_names]"
   ]
  },
  {
   "cell_type": "markdown",
   "id": "second-horror",
   "metadata": {},
   "source": [
    "#### Find closest indices in unsmoothed profile to those of the crest and toe of the B-spline profiles\n",
    "\n"
   ]
  },
  {
   "cell_type": "code",
   "execution_count": 171,
   "id": "ranking-aaron",
   "metadata": {},
   "outputs": [],
   "source": [
    "#Define function to find index of the closest matching point in M.\n",
    "def find_closest_index(c,d,a):\n",
    "    idx_temp = [abs(c[b]-d[b]).idxmin() for b in a]   \n",
    "    return idx_temp"
   ]
  },
  {
   "cell_type": "code",
   "execution_count": 172,
   "id": "eligible-underground",
   "metadata": {},
   "outputs": [],
   "source": [
    "#Define dataframes for indices of crest and toe\n",
    "idx_crest=pd.DataFrame()\n",
    "idx_toe=pd.DataFrame()\n",
    "\n",
    "#Find the index of the crest and toe in M\n",
    "index_crest_temp = find_closest_index(crest.iloc[0],M,profile_names)\n",
    "index_toe_temp = find_closest_index(toe.iloc[0],M,profile_names)\n",
    "idx_crest = pd.DataFrame(index_crest_temp).transpose()\n",
    "idx_crest.columns=profile_names\n",
    "idx_toe = pd.DataFrame(index_toe_temp).transpose()\n",
    "idx_toe.columns=profile_names"
   ]
  },
  {
   "cell_type": "markdown",
   "id": "pleasant-conditions",
   "metadata": {},
   "source": [
    "### Calculate scarp height and distance along scarp"
   ]
  },
  {
   "cell_type": "code",
   "execution_count": 173,
   "id": "located-partition",
   "metadata": {},
   "outputs": [],
   "source": [
    "height = pd.DataFrame([find_height_idx(idx_crest,idx_toe,Z,a) for a in idx_crest.columns])\n",
    "height.index = idx_crest.columns"
   ]
  },
  {
   "cell_type": "code",
   "execution_count": 174,
   "id": "verbal-antenna",
   "metadata": {},
   "outputs": [],
   "source": [
    "distance_crests = pd.DataFrame(find_distance(crest.loc[0,:].values,crest.loc[1,:].values))\n",
    "distance_crests.index=height.index"
   ]
  },
  {
   "cell_type": "code",
   "execution_count": 175,
   "id": "eafd6ae5-7a93-414d-83c0-edb27cae64f5",
   "metadata": {},
   "outputs": [],
   "source": [
    "height_save=height[0].reset_index(drop=True)\n",
    "height_names=pd.Series(height.index,name='filename')\n",
    "heights=pd.concat([height_save,height_names],axis=1)\n",
    "heights.to_csv(\"Height/\"+landform_name+\"_height.txt\")"
   ]
  },
  {
   "cell_type": "code",
   "execution_count": 176,
   "id": "8e53343b-f11a-4ab3-9813-c97e505e062c",
   "metadata": {},
   "outputs": [
    {
     "data": {
      "text/plain": [
       "[<matplotlib.lines.Line2D at 0x7fed35d4d400>]"
      ]
     },
     "execution_count": 176,
     "metadata": {},
     "output_type": "execute_result"
    }
   ],
   "source": [
    "plt.plot(height_save,'.')"
   ]
  },
  {
   "cell_type": "markdown",
   "id": "greatest-hopkins",
   "metadata": {},
   "source": [
    "## Crop and normalize profiles"
   ]
  },
  {
   "cell_type": "markdown",
   "id": "configured-malpractice",
   "metadata": {},
   "source": [
    "#### Crop profiles"
   ]
  },
  {
   "cell_type": "code",
   "execution_count": 177,
   "id": "deadly-iceland",
   "metadata": {},
   "outputs": [],
   "source": [
    "M_crop=[]#pd.DataFrame(index=range(len(M)))\n",
    "Z_crop=[]#pd.DataFrame(index=range(len(M)))\n",
    "for a in profile_names:\n",
    "    M_temp=M[a]\n",
    "    Z_temp=Z[a]\n",
    "    idx_crest_temp=idx_crest[a]\n",
    "    idx_toe_temp=idx_toe[a]\n",
    "    M_crop_1_temp=M_temp.iloc[idx_crest_temp[0]:idx_toe_temp[0]].reset_index(drop=True)\n",
    "    Z_crop_1_temp=Z_temp.iloc[idx_crest_temp[0]:idx_toe_temp[0]].reset_index(drop=True)\n",
    "    M_crop.append(M_crop_1_temp)\n",
    "    Z_crop.append(Z_crop_1_temp)\n",
    "M_crop=pd.DataFrame(M_crop).transpose()\n",
    "Z_crop=pd.DataFrame(Z_crop).transpose()"
   ]
  },
  {
   "cell_type": "code",
   "execution_count": 178,
   "id": "03433ea0-07a3-4f87-89a3-75efc256d288",
   "metadata": {},
   "outputs": [],
   "source": [
    "a=1\n",
    "\n",
    "fig,ax=plt.subplots()\n",
    "\n",
    "ax.plot(M.iloc[:,a],Z.iloc[:,a])\n",
    "ax.plot(M_crop.iloc[:,a],Z_crop.iloc[:,a])\n",
    "ax.set_aspect('equal')"
   ]
  },
  {
   "cell_type": "markdown",
   "id": "voluntary-statistics",
   "metadata": {},
   "source": [
    "# Normalize cropped profiles"
   ]
  },
  {
   "cell_type": "code",
   "execution_count": 179,
   "id": "determined-produce",
   "metadata": {},
   "outputs": [],
   "source": [
    "M_crop_norm = []\n",
    "Z_crop_norm = []\n",
    "\n",
    "for a in profile_names:\n",
    "    M_crop_norm_temp = M_crop[a]-M_crop[a].min()\n",
    "    Z_crop_norm_temp = Z_crop[a]-Z_crop[a].min()\n",
    "    M_crop_norm_temp=M_crop_norm_temp/Z_crop_norm_temp.max()\n",
    "    Z_crop_norm_temp=Z_crop_norm_temp/Z_crop_norm_temp.max()\n",
    "    M_crop_norm.append(M_crop_norm_temp)\n",
    "    Z_crop_norm.append(Z_crop_norm_temp)\n",
    "M_crop_norm=pd.DataFrame(M_crop_norm).transpose()\n",
    "Z_crop_norm=pd.DataFrame(Z_crop_norm).transpose()"
   ]
  },
  {
   "cell_type": "code",
   "execution_count": 180,
   "id": "990820c4-ac09-4942-8758-444172d75564",
   "metadata": {},
   "outputs": [],
   "source": [
    "a=50\n",
    "\n",
    "fig,ax=plt.subplots()\n",
    "\n",
    "ax.plot(M_crop_norm.iloc[:,a],Z_crop_norm.iloc[:,a])\n",
    "ax.set_aspect('equal')"
   ]
  },
  {
   "cell_type": "markdown",
   "id": "boring-sequence",
   "metadata": {},
   "source": [
    "## Output files"
   ]
  },
  {
   "cell_type": "code",
   "execution_count": 181,
   "id": "ba8ae408-0419-4b04-8339-4b05b3e815bb",
   "metadata": {},
   "outputs": [],
   "source": [
    "path=landform_name+'_cropped_normalized_profiles/'\n",
    "if os.path.exists(path)==False: \n",
    "    os.mkdir(path)"
   ]
  },
  {
   "cell_type": "code",
   "execution_count": 182,
   "id": "moderate-applicant",
   "metadata": {},
   "outputs": [],
   "source": [
    "for a in landform_names:\n",
    "    i = 0\n",
    "    landform_profile_names=[s for s in profile_names if f\"{a}\" in s]\n",
    "    for b in landform_profile_names:\n",
    "        scarp_name = a\n",
    "        profile = pd.concat([M_crop_norm[b],Z_crop_norm[b]], axis =1, join = 'outer', ignore_index = False)\n",
    "        profile.columns = ['M_crop_norm','Z_crop_norm']\n",
    "        file = scarp_name+f'_cropnorm_{i}.txt'\n",
    "        i += 1\n",
    "        profile.to_csv(path+file)"
   ]
  }
 ],
 "metadata": {
  "kernelspec": {
   "display_name": "Python 3 (ipykernel)",
   "language": "python",
   "name": "python3"
  },
  "language_info": {
   "codemirror_mode": {
    "name": "ipython",
    "version": 3
   },
   "file_extension": ".py",
   "mimetype": "text/x-python",
   "name": "python",
   "nbconvert_exporter": "python",
   "pygments_lexer": "ipython3",
   "version": "3.9.16"
  }
 },
 "nbformat": 4,
 "nbformat_minor": 5
}
